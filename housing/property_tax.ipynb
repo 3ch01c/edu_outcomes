{
 "cells": [
  {
   "cell_type": "code",
   "execution_count": 37,
   "id": "e470624c-7931-4258-830f-c844aa14caf3",
   "metadata": {
    "tags": []
   },
   "outputs": [],
   "source": [
    "import requests\n",
    "import re"
   ]
  },
  {
   "cell_type": "code",
   "execution_count": 38,
   "id": "ca000f9f",
   "metadata": {},
   "outputs": [
    {
     "name": "stdout",
     "output_type": "stream",
     "text": [
      "Failed to fetch https://eagleweb.losalamosnm.us/assessor/taxweb/results.jsp?CityZipID=87544&start=800: Status code 200\n",
      "Failed to fetch https://eagleweb.losalamosnm.us/assessor/taxweb/results.jsp?CityZipID=87547&start=800: Status code 200\n"
     ]
    }
   ],
   "source": [
    "# Get results from the Los Alamos County Assessor's website\n",
    "\n",
    "# URLs to Fetch\n",
    "root_url = \"https://eagleweb.losalamosnm.us/assessor/taxweb/results.jsp\"\n",
    "\n",
    "# Cookies as defined in the cookies.txt file\n",
    "cookies = {\n",
    "    'isLoggedInAsPublic': 'true'\n",
    "}\n",
    "\n",
    "# Regular expression to match the pattern: account.jsp?accountNum= followed by 7 non-whitespace characters\n",
    "account_pattern = re.compile(r\"account\\.jsp\\?accountNum=(\\S{7})\")\n",
    "\n",
    "# Function to fetch and parse URLs\n",
    "def fetch_and_parse(root_url, cookies):\n",
    "    results = []\n",
    "    for zip in [87544, 87547]:\n",
    "        # For each URL, there are multiple pages. Add start=100, start=200, etc. to the URL\n",
    "        for start in range(0, 1000, 100):\n",
    "            # Append the start parameter to the URL\n",
    "            url = f\"{root_url}?CityZipID={zip}&start={start}\"\n",
    "            # Make a GET request with the cookies\n",
    "            response = requests.get(url, cookies=cookies)\n",
    "            \n",
    "            # Check if the request was successful\n",
    "            if response.status_code == 200:\n",
    "                # Search for the pattern in the page content\n",
    "                matches = account_pattern.findall(response.text)\n",
    "                results.extend(matches)\n",
    "        else:\n",
    "            print(f\"Failed to fetch {url}: Status code {response.status_code}\")\n",
    "\n",
    "    return results\n",
    "\n",
    "# Fetch and parse the URLs\n",
    "matches = fetch_and_parse(root_url, cookies)"
   ]
  },
  {
   "cell_type": "code",
   "execution_count": null,
   "id": "7254e13e",
   "metadata": {},
   "outputs": [],
   "source": [
    "# sort and unique matches\n",
    "matches.sort()\n",
    "matches = list(set(matches))"
   ]
  },
  {
   "cell_type": "code",
   "execution_count": 40,
   "id": "c300d45c",
   "metadata": {},
   "outputs": [
    {
     "name": "stdout",
     "output_type": "stream",
     "text": [
      "Total matches: 1800\n"
     ]
    }
   ],
   "source": [
    "# count matches\n",
    "print(f\"Total matches: {len(matches)}\")"
   ]
  },
  {
   "cell_type": "code",
   "execution_count": null,
   "id": "c8edd0ef",
   "metadata": {},
   "outputs": [],
   "source": [
    "# Get the account details\n",
    "for match in matches:\n",
    "    url = f\"https://eagleweb.losalamosnm.us/assessor/taxweb/account.jsp?accountNum={match}\"\n",
    "    response = requests.get(url, cookies=cookies)\n",
    "    if response.status_code == 200:\n",
    "        # use jquery to select the accountSummary table\n",
    "        \n",
    "        with open(f\"{match}.html\", \"w\") as f:\n",
    "            f.write(response.text)\n",
    "    else:\n",
    "        print(f\"Failed to fetch {url}: Status code {response.status_code}\")"
   ]
  },
  {
   "cell_type": "code",
   "execution_count": null,
   "id": "3b3a290d",
   "metadata": {},
   "outputs": [],
   "source": [
    "# Display the results\n",
    "# if matches:\n",
    "#     print(\"Found account numbers:\")\n",
    "#     for match in matches:\n",
    "#         print(match)\n",
    "# else:\n",
    "#     print(\"No matches found.\")"
   ]
  }
 ],
 "metadata": {
  "kernelspec": {
   "display_name": "Python 3 (ipykernel)",
   "language": "python",
   "name": "python3"
  },
  "language_info": {
   "codemirror_mode": {
    "name": "ipython",
    "version": 3
   },
   "file_extension": ".py",
   "mimetype": "text/x-python",
   "name": "python",
   "nbconvert_exporter": "python",
   "pygments_lexer": "ipython3",
   "version": "3.10.4"
  }
 },
 "nbformat": 4,
 "nbformat_minor": 5
}
